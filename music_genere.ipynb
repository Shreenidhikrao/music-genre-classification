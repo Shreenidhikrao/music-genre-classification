{
 "cells": [
  {
   "cell_type": "code",
   "execution_count": 1,
   "id": "c4920178",
   "metadata": {},
   "outputs": [
    {
     "name": "stdout",
     "output_type": "stream",
     "text": [
      "Collecting python_speech_features\n",
      "  Downloading python_speech_features-0.6.tar.gz (5.6 kB)\n",
      "  Preparing metadata (setup.py): started\n",
      "  Preparing metadata (setup.py): finished with status 'done'\n",
      "Building wheels for collected packages: python_speech_features\n",
      "  Building wheel for python_speech_features (setup.py): started\n",
      "  Building wheel for python_speech_features (setup.py): finished with status 'done'\n",
      "  Created wheel for python_speech_features: filename=python_speech_features-0.6-py3-none-any.whl size=5869 sha256=12e1f38e13b624a6d0d50375c7db745f7dd51fec9be06a7f0d969df7e202024e\n",
      "  Stored in directory: c:\\users\\admin\\appdata\\local\\pip\\cache\\wheels\\09\\a1\\04\\08e2688d2562d8f9ff89e77c6ddfbf7268e07dae1a6f22455e\n",
      "Successfully built python_speech_features\n",
      "Installing collected packages: python_speech_features\n",
      "Successfully installed python_speech_features-0.6\n",
      "Requirement already satisfied: scipy in e:\\anaconda\\lib\\site-packages (1.9.1)\n",
      "Requirement already satisfied: numpy<1.25.0,>=1.18.5 in e:\\anaconda\\lib\\site-packages (from scipy) (1.21.5)\n"
     ]
    }
   ],
   "source": [
    "!pip install python_speech_features\n",
    "!pip install scipy"
   ]
  },
  {
   "cell_type": "code",
   "execution_count": 2,
   "id": "9ef88363",
   "metadata": {},
   "outputs": [],
   "source": [
    "import numpy as np\n",
    "import pandas as pd\n",
    "import scipy.io.wavfile as wav\n",
    "from python_speech_features import mfcc\n",
    "from tempfile import TemporaryFile\n",
    "import os\n",
    "import math\n",
    "import pickle\n",
    "import random\n",
    "import operator"
   ]
  },
  {
   "cell_type": "code",
   "execution_count": 3,
   "id": "cf158939",
   "metadata": {},
   "outputs": [],
   "source": [
    "def getNeighbors(trainingset, instance, k):\n",
    "    distances = []\n",
    "    for x in range(len(trainingset)):\n",
    "        dist = distance(trainingset[x], instance, k) + distance(instance,trainingset[x],k)\n",
    "        distances.append((trainingset[x][2], dist))\n",
    "    distances.sort(key=operator.itemgetter(1))\n",
    "    neighbors = []\n",
    "    for x in range(k):\n",
    "        neighbors.append(distances[x][0])\n",
    "    return neighbors"
   ]
  },
  {
   "cell_type": "code",
   "execution_count": 4,
   "id": "742f6c64",
   "metadata": {},
   "outputs": [],
   "source": [
    "def nearestclass(neighbors):\n",
    "    classVote = {}\n",
    "    \n",
    "    for x in range(len(neighbors)):\n",
    "        response = neighbors[x]\n",
    "        if response in classVote:\n",
    "            classVote[response] += 1\n",
    "        else:\n",
    "            classVote[response] = 1\n",
    "            \n",
    "    sorter = sorted(classVote.items(), key=operator.itemgetter(1), reverse=True)\n",
    "    return sorter[0][0]"
   ]
  },
  {
   "cell_type": "code",
   "execution_count": 5,
   "id": "2570f3d2",
   "metadata": {},
   "outputs": [],
   "source": [
    "def getAccuracy(testSet, prediction):\n",
    "    correct = 0\n",
    "    for x in range(len(testSet)):\n",
    "        if testSet[x][-1] == prediction[x]:\n",
    "            correct += 1\n",
    "    return 1.0 * correct / len(testSet)"
   ]
  },
  {
   "cell_type": "code",
   "execution_count": 6,
   "id": "e3f671d8",
   "metadata": {},
   "outputs": [],
   "source": [
    "directory = 'L:\\PES\\MI\\mi_project\\gitzan_dataset\\Data\\genres_original'\n",
    "f = open(\"mydataset.dat\", \"wb\")\n",
    "i = 0\n",
    "for folder in os.listdir(directory):\n",
    "    #print(folder)\n",
    "    i += 1\n",
    "    if i == 11:\n",
    "        break\n",
    "    for file in os.listdir(directory+\"/\"+folder):\n",
    "        #print(file)\n",
    "        try:\n",
    "            (rate, sig) = wav.read(directory+\"/\"+folder+\"/\"+file)\n",
    "            mfcc_feat = mfcc(sig, rate, winlen = 0.020, appendEnergy=False)\n",
    "            covariance = np.cov(np.matrix.transpose(mfcc_feat))\n",
    "            mean_matrix = mfcc_feat.mean(0)\n",
    "            feature = (mean_matrix, covariance, i)\n",
    "            pickle.dump(feature, f)\n",
    "        except Exception as e:\n",
    "            print(\"Got an exception: \", e, 'in folder: ', folder, ' filename: ', file)\n",
    "f.close()"
   ]
  },
  {
   "cell_type": "code",
   "execution_count": 7,
   "id": "56e801ba",
   "metadata": {},
   "outputs": [],
   "source": [
    "dataset = []\n",
    "\n",
    "def loadDataset(filename, split, trset, teset):\n",
    "    with open('mydataset.dat','rb') as f:\n",
    "        while True:\n",
    "            try:\n",
    "                dataset.append(pickle.load(f))\n",
    "            except EOFError:\n",
    "                f.close()\n",
    "                break\n",
    "    for x in range(len(dataset)):\n",
    "        if random.random() < split:\n",
    "            trset.append(dataset[x])\n",
    "        else:\n",
    "            teset.append(dataset[x])\n",
    "\n",
    "trainingSet = []\n",
    "testSet = []\n",
    "loadDataset('mydataset.dat', 0.68, trainingSet, testSet)"
   ]
  },
  {
   "cell_type": "code",
   "execution_count": 8,
   "id": "1681a852",
   "metadata": {},
   "outputs": [],
   "source": [
    "def distance(instance1, instance2, k):\n",
    "    distance = 0\n",
    "    mm1 = instance1[0]\n",
    "    cm1 = instance1[1]\n",
    "    mm2 = instance2[0]\n",
    "    cm2 = instance2[1]\n",
    "    distance = np.trace(np.dot(np.linalg.inv(cm2), cm1))\n",
    "    distance += (np.dot(np.dot((mm2-mm1).transpose(), np.linalg.inv(cm2)), mm2-mm1))\n",
    "    distance += np.log(np.linalg.det(cm2)) - np.log(np.linalg.det(cm1))\n",
    "    distance -= k\n",
    "    return distance"
   ]
  },
  {
   "cell_type": "code",
   "execution_count": 9,
   "id": "9d361f29",
   "metadata": {},
   "outputs": [
    {
     "name": "stdout",
     "output_type": "stream",
     "text": [
      "0.7522658610271903\n"
     ]
    }
   ],
   "source": [
    "length = len(testSet)\n",
    "predictions = []\n",
    "for x in range(length):\n",
    "    predictions.append(nearestclass(getNeighbors(trainingSet, testSet[x], 5)))\n",
    "\n",
    "accuracy1 = getAccuracy(testSet, predictions)\n",
    "print(accuracy1)"
   ]
  },
  {
   "cell_type": "code",
   "execution_count": 10,
   "id": "e484c23f",
   "metadata": {},
   "outputs": [
    {
     "name": "stdout",
     "output_type": "stream",
     "text": [
      "defaultdict(<class 'int'>, {1: 'blues', 2: 'classical', 3: 'country', 4: 'disco', 5: 'hiphop', 6: 'jazz', 7: 'metal', 8: 'pop', 9: 'reggae', 10: 'rock'})\n"
     ]
    }
   ],
   "source": [
    "from collections import defaultdict\n",
    "results = defaultdict(int)\n",
    "\n",
    "directory = \"L:\\PES\\MI\\mi_project\\gitzan_dataset\\Data\\genres_original\"\n",
    "\n",
    "i = 1\n",
    "for folder in os.listdir(directory):\n",
    "    results[i] = folder\n",
    "    i += 1\n",
    "print(results)"
   ]
  },
  {
   "cell_type": "code",
   "execution_count": 11,
   "id": "a6efff3b",
   "metadata": {},
   "outputs": [
    {
     "name": "stdout",
     "output_type": "stream",
     "text": [
      "rock\n"
     ]
    }
   ],
   "source": [
    "pred = nearestclass(getNeighbors(dataset, feature, 5))\n",
    "print(results[pred])"
   ]
  },
  {
   "cell_type": "code",
   "execution_count": null,
   "id": "9f5151db",
   "metadata": {},
   "outputs": [],
   "source": []
  }
 ],
 "metadata": {
  "kernelspec": {
   "display_name": "Python 3 (ipykernel)",
   "language": "python",
   "name": "python3"
  },
  "language_info": {
   "codemirror_mode": {
    "name": "ipython",
    "version": 3
   },
   "file_extension": ".py",
   "mimetype": "text/x-python",
   "name": "python",
   "nbconvert_exporter": "python",
   "pygments_lexer": "ipython3",
   "version": "3.9.13"
  }
 },
 "nbformat": 4,
 "nbformat_minor": 5
}
